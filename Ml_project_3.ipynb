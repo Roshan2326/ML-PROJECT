{
 "cells": [
  {
   "cell_type": "markdown",
   "id": "5068331d",
   "metadata": {},
   "source": [
    "# DECISION TREE ALGORITHM"
   ]
  },
  {
   "cell_type": "code",
   "execution_count": 41,
   "id": "64ade6e7",
   "metadata": {},
   "outputs": [],
   "source": [
    "import pandas as pd\n",
    "import numpy as np\n",
    "import matplotlib.pyplot as plt\n",
    "from sklearn.model_selection import train_test_split\n",
    "from sklearn.preprocessing import StandardScaler\n",
    "from sklearn.preprocessing import LabelEncoder\n",
    "from sklearn.metrics import mean_squared_error,accuracy_score\n",
    "from sklearn.model_selection import cross_val_score  \n"
   ]
  },
  {
   "cell_type": "code",
   "execution_count": 42,
   "id": "82c1bd57",
   "metadata": {},
   "outputs": [],
   "source": [
    "dataset = pd.read_csv(r\"C:\\Users\\rocky\\Downloads\\bike_buyers.csv\")"
   ]
  },
  {
   "cell_type": "code",
   "execution_count": 43,
   "id": "da30bb9e",
   "metadata": {
    "scrolled": true
   },
   "outputs": [
    {
     "data": {
      "text/html": [
       "<div>\n",
       "<style scoped>\n",
       "    .dataframe tbody tr th:only-of-type {\n",
       "        vertical-align: middle;\n",
       "    }\n",
       "\n",
       "    .dataframe tbody tr th {\n",
       "        vertical-align: top;\n",
       "    }\n",
       "\n",
       "    .dataframe thead th {\n",
       "        text-align: right;\n",
       "    }\n",
       "</style>\n",
       "<table border=\"1\" class=\"dataframe\">\n",
       "  <thead>\n",
       "    <tr style=\"text-align: right;\">\n",
       "      <th></th>\n",
       "      <th>ID</th>\n",
       "      <th>Marital Status</th>\n",
       "      <th>Gender</th>\n",
       "      <th>Income</th>\n",
       "      <th>Children</th>\n",
       "      <th>Education</th>\n",
       "      <th>Occupation</th>\n",
       "      <th>Home Owner</th>\n",
       "      <th>Cars</th>\n",
       "      <th>Commute Distance</th>\n",
       "      <th>Region</th>\n",
       "      <th>Age</th>\n",
       "      <th>Purchased Bike</th>\n",
       "    </tr>\n",
       "  </thead>\n",
       "  <tbody>\n",
       "    <tr>\n",
       "      <th>0</th>\n",
       "      <td>12496</td>\n",
       "      <td>Married</td>\n",
       "      <td>Female</td>\n",
       "      <td>40000.0</td>\n",
       "      <td>1.0</td>\n",
       "      <td>Bachelors</td>\n",
       "      <td>Skilled Manual</td>\n",
       "      <td>Yes</td>\n",
       "      <td>0.0</td>\n",
       "      <td>0-1 Miles</td>\n",
       "      <td>Europe</td>\n",
       "      <td>42.0</td>\n",
       "      <td>No</td>\n",
       "    </tr>\n",
       "    <tr>\n",
       "      <th>1</th>\n",
       "      <td>24107</td>\n",
       "      <td>Married</td>\n",
       "      <td>Male</td>\n",
       "      <td>30000.0</td>\n",
       "      <td>3.0</td>\n",
       "      <td>Partial College</td>\n",
       "      <td>Clerical</td>\n",
       "      <td>Yes</td>\n",
       "      <td>1.0</td>\n",
       "      <td>0-1 Miles</td>\n",
       "      <td>Europe</td>\n",
       "      <td>43.0</td>\n",
       "      <td>No</td>\n",
       "    </tr>\n",
       "    <tr>\n",
       "      <th>2</th>\n",
       "      <td>14177</td>\n",
       "      <td>Married</td>\n",
       "      <td>Male</td>\n",
       "      <td>80000.0</td>\n",
       "      <td>5.0</td>\n",
       "      <td>Partial College</td>\n",
       "      <td>Professional</td>\n",
       "      <td>No</td>\n",
       "      <td>2.0</td>\n",
       "      <td>2-5 Miles</td>\n",
       "      <td>Europe</td>\n",
       "      <td>60.0</td>\n",
       "      <td>No</td>\n",
       "    </tr>\n",
       "    <tr>\n",
       "      <th>3</th>\n",
       "      <td>24381</td>\n",
       "      <td>Single</td>\n",
       "      <td>NaN</td>\n",
       "      <td>70000.0</td>\n",
       "      <td>0.0</td>\n",
       "      <td>Bachelors</td>\n",
       "      <td>Professional</td>\n",
       "      <td>Yes</td>\n",
       "      <td>1.0</td>\n",
       "      <td>5-10 Miles</td>\n",
       "      <td>Pacific</td>\n",
       "      <td>41.0</td>\n",
       "      <td>Yes</td>\n",
       "    </tr>\n",
       "    <tr>\n",
       "      <th>4</th>\n",
       "      <td>25597</td>\n",
       "      <td>Single</td>\n",
       "      <td>Male</td>\n",
       "      <td>30000.0</td>\n",
       "      <td>0.0</td>\n",
       "      <td>Bachelors</td>\n",
       "      <td>Clerical</td>\n",
       "      <td>No</td>\n",
       "      <td>0.0</td>\n",
       "      <td>0-1 Miles</td>\n",
       "      <td>Europe</td>\n",
       "      <td>36.0</td>\n",
       "      <td>Yes</td>\n",
       "    </tr>\n",
       "    <tr>\n",
       "      <th>...</th>\n",
       "      <td>...</td>\n",
       "      <td>...</td>\n",
       "      <td>...</td>\n",
       "      <td>...</td>\n",
       "      <td>...</td>\n",
       "      <td>...</td>\n",
       "      <td>...</td>\n",
       "      <td>...</td>\n",
       "      <td>...</td>\n",
       "      <td>...</td>\n",
       "      <td>...</td>\n",
       "      <td>...</td>\n",
       "      <td>...</td>\n",
       "    </tr>\n",
       "    <tr>\n",
       "      <th>995</th>\n",
       "      <td>23731</td>\n",
       "      <td>Married</td>\n",
       "      <td>Male</td>\n",
       "      <td>60000.0</td>\n",
       "      <td>2.0</td>\n",
       "      <td>High School</td>\n",
       "      <td>Professional</td>\n",
       "      <td>Yes</td>\n",
       "      <td>2.0</td>\n",
       "      <td>2-5 Miles</td>\n",
       "      <td>North America</td>\n",
       "      <td>54.0</td>\n",
       "      <td>Yes</td>\n",
       "    </tr>\n",
       "    <tr>\n",
       "      <th>996</th>\n",
       "      <td>28672</td>\n",
       "      <td>Single</td>\n",
       "      <td>Male</td>\n",
       "      <td>70000.0</td>\n",
       "      <td>4.0</td>\n",
       "      <td>Graduate Degree</td>\n",
       "      <td>Professional</td>\n",
       "      <td>Yes</td>\n",
       "      <td>0.0</td>\n",
       "      <td>2-5 Miles</td>\n",
       "      <td>North America</td>\n",
       "      <td>35.0</td>\n",
       "      <td>Yes</td>\n",
       "    </tr>\n",
       "    <tr>\n",
       "      <th>997</th>\n",
       "      <td>11809</td>\n",
       "      <td>Married</td>\n",
       "      <td>NaN</td>\n",
       "      <td>60000.0</td>\n",
       "      <td>2.0</td>\n",
       "      <td>Bachelors</td>\n",
       "      <td>Skilled Manual</td>\n",
       "      <td>Yes</td>\n",
       "      <td>0.0</td>\n",
       "      <td>0-1 Miles</td>\n",
       "      <td>North America</td>\n",
       "      <td>38.0</td>\n",
       "      <td>Yes</td>\n",
       "    </tr>\n",
       "    <tr>\n",
       "      <th>998</th>\n",
       "      <td>19664</td>\n",
       "      <td>Single</td>\n",
       "      <td>Male</td>\n",
       "      <td>100000.0</td>\n",
       "      <td>3.0</td>\n",
       "      <td>Bachelors</td>\n",
       "      <td>Management</td>\n",
       "      <td>No</td>\n",
       "      <td>3.0</td>\n",
       "      <td>1-2 Miles</td>\n",
       "      <td>North America</td>\n",
       "      <td>38.0</td>\n",
       "      <td>No</td>\n",
       "    </tr>\n",
       "    <tr>\n",
       "      <th>999</th>\n",
       "      <td>12121</td>\n",
       "      <td>Single</td>\n",
       "      <td>Male</td>\n",
       "      <td>60000.0</td>\n",
       "      <td>3.0</td>\n",
       "      <td>High School</td>\n",
       "      <td>Professional</td>\n",
       "      <td>Yes</td>\n",
       "      <td>2.0</td>\n",
       "      <td>10+ Miles</td>\n",
       "      <td>North America</td>\n",
       "      <td>53.0</td>\n",
       "      <td>Yes</td>\n",
       "    </tr>\n",
       "  </tbody>\n",
       "</table>\n",
       "<p>1000 rows × 13 columns</p>\n",
       "</div>"
      ],
      "text/plain": [
       "        ID Marital Status  Gender    Income  Children        Education  \\\n",
       "0    12496        Married  Female   40000.0       1.0        Bachelors   \n",
       "1    24107        Married    Male   30000.0       3.0  Partial College   \n",
       "2    14177        Married    Male   80000.0       5.0  Partial College   \n",
       "3    24381         Single     NaN   70000.0       0.0        Bachelors   \n",
       "4    25597         Single    Male   30000.0       0.0        Bachelors   \n",
       "..     ...            ...     ...       ...       ...              ...   \n",
       "995  23731        Married    Male   60000.0       2.0      High School   \n",
       "996  28672         Single    Male   70000.0       4.0  Graduate Degree   \n",
       "997  11809        Married     NaN   60000.0       2.0        Bachelors   \n",
       "998  19664         Single    Male  100000.0       3.0        Bachelors   \n",
       "999  12121         Single    Male   60000.0       3.0      High School   \n",
       "\n",
       "         Occupation Home Owner  Cars Commute Distance         Region   Age  \\\n",
       "0    Skilled Manual        Yes   0.0        0-1 Miles         Europe  42.0   \n",
       "1          Clerical        Yes   1.0        0-1 Miles         Europe  43.0   \n",
       "2      Professional         No   2.0        2-5 Miles         Europe  60.0   \n",
       "3      Professional        Yes   1.0       5-10 Miles        Pacific  41.0   \n",
       "4          Clerical         No   0.0        0-1 Miles         Europe  36.0   \n",
       "..              ...        ...   ...              ...            ...   ...   \n",
       "995    Professional        Yes   2.0        2-5 Miles  North America  54.0   \n",
       "996    Professional        Yes   0.0        2-5 Miles  North America  35.0   \n",
       "997  Skilled Manual        Yes   0.0        0-1 Miles  North America  38.0   \n",
       "998      Management         No   3.0        1-2 Miles  North America  38.0   \n",
       "999    Professional        Yes   2.0        10+ Miles  North America  53.0   \n",
       "\n",
       "    Purchased Bike  \n",
       "0               No  \n",
       "1               No  \n",
       "2               No  \n",
       "3              Yes  \n",
       "4              Yes  \n",
       "..             ...  \n",
       "995            Yes  \n",
       "996            Yes  \n",
       "997            Yes  \n",
       "998             No  \n",
       "999            Yes  \n",
       "\n",
       "[1000 rows x 13 columns]"
      ]
     },
     "execution_count": 43,
     "metadata": {},
     "output_type": "execute_result"
    }
   ],
   "source": [
    "dataset"
   ]
  },
  {
   "cell_type": "code",
   "execution_count": 44,
   "id": "36b95fa8",
   "metadata": {},
   "outputs": [],
   "source": [
    "newdataset=dataset.drop(['ID','Age','Cars'] ,axis=1)"
   ]
  },
  {
   "cell_type": "code",
   "execution_count": 45,
   "id": "3d762ac1",
   "metadata": {},
   "outputs": [
    {
     "data": {
      "text/html": [
       "<div>\n",
       "<style scoped>\n",
       "    .dataframe tbody tr th:only-of-type {\n",
       "        vertical-align: middle;\n",
       "    }\n",
       "\n",
       "    .dataframe tbody tr th {\n",
       "        vertical-align: top;\n",
       "    }\n",
       "\n",
       "    .dataframe thead th {\n",
       "        text-align: right;\n",
       "    }\n",
       "</style>\n",
       "<table border=\"1\" class=\"dataframe\">\n",
       "  <thead>\n",
       "    <tr style=\"text-align: right;\">\n",
       "      <th></th>\n",
       "      <th>Marital Status</th>\n",
       "      <th>Gender</th>\n",
       "      <th>Income</th>\n",
       "      <th>Children</th>\n",
       "      <th>Education</th>\n",
       "      <th>Occupation</th>\n",
       "      <th>Home Owner</th>\n",
       "      <th>Commute Distance</th>\n",
       "      <th>Region</th>\n",
       "      <th>Purchased Bike</th>\n",
       "    </tr>\n",
       "  </thead>\n",
       "  <tbody>\n",
       "    <tr>\n",
       "      <th>0</th>\n",
       "      <td>Married</td>\n",
       "      <td>Female</td>\n",
       "      <td>40000.0</td>\n",
       "      <td>1.0</td>\n",
       "      <td>Bachelors</td>\n",
       "      <td>Skilled Manual</td>\n",
       "      <td>Yes</td>\n",
       "      <td>0-1 Miles</td>\n",
       "      <td>Europe</td>\n",
       "      <td>No</td>\n",
       "    </tr>\n",
       "    <tr>\n",
       "      <th>1</th>\n",
       "      <td>Married</td>\n",
       "      <td>Male</td>\n",
       "      <td>30000.0</td>\n",
       "      <td>3.0</td>\n",
       "      <td>Partial College</td>\n",
       "      <td>Clerical</td>\n",
       "      <td>Yes</td>\n",
       "      <td>0-1 Miles</td>\n",
       "      <td>Europe</td>\n",
       "      <td>No</td>\n",
       "    </tr>\n",
       "    <tr>\n",
       "      <th>2</th>\n",
       "      <td>Married</td>\n",
       "      <td>Male</td>\n",
       "      <td>80000.0</td>\n",
       "      <td>5.0</td>\n",
       "      <td>Partial College</td>\n",
       "      <td>Professional</td>\n",
       "      <td>No</td>\n",
       "      <td>2-5 Miles</td>\n",
       "      <td>Europe</td>\n",
       "      <td>No</td>\n",
       "    </tr>\n",
       "    <tr>\n",
       "      <th>3</th>\n",
       "      <td>Single</td>\n",
       "      <td>NaN</td>\n",
       "      <td>70000.0</td>\n",
       "      <td>0.0</td>\n",
       "      <td>Bachelors</td>\n",
       "      <td>Professional</td>\n",
       "      <td>Yes</td>\n",
       "      <td>5-10 Miles</td>\n",
       "      <td>Pacific</td>\n",
       "      <td>Yes</td>\n",
       "    </tr>\n",
       "    <tr>\n",
       "      <th>4</th>\n",
       "      <td>Single</td>\n",
       "      <td>Male</td>\n",
       "      <td>30000.0</td>\n",
       "      <td>0.0</td>\n",
       "      <td>Bachelors</td>\n",
       "      <td>Clerical</td>\n",
       "      <td>No</td>\n",
       "      <td>0-1 Miles</td>\n",
       "      <td>Europe</td>\n",
       "      <td>Yes</td>\n",
       "    </tr>\n",
       "    <tr>\n",
       "      <th>...</th>\n",
       "      <td>...</td>\n",
       "      <td>...</td>\n",
       "      <td>...</td>\n",
       "      <td>...</td>\n",
       "      <td>...</td>\n",
       "      <td>...</td>\n",
       "      <td>...</td>\n",
       "      <td>...</td>\n",
       "      <td>...</td>\n",
       "      <td>...</td>\n",
       "    </tr>\n",
       "    <tr>\n",
       "      <th>995</th>\n",
       "      <td>Married</td>\n",
       "      <td>Male</td>\n",
       "      <td>60000.0</td>\n",
       "      <td>2.0</td>\n",
       "      <td>High School</td>\n",
       "      <td>Professional</td>\n",
       "      <td>Yes</td>\n",
       "      <td>2-5 Miles</td>\n",
       "      <td>North America</td>\n",
       "      <td>Yes</td>\n",
       "    </tr>\n",
       "    <tr>\n",
       "      <th>996</th>\n",
       "      <td>Single</td>\n",
       "      <td>Male</td>\n",
       "      <td>70000.0</td>\n",
       "      <td>4.0</td>\n",
       "      <td>Graduate Degree</td>\n",
       "      <td>Professional</td>\n",
       "      <td>Yes</td>\n",
       "      <td>2-5 Miles</td>\n",
       "      <td>North America</td>\n",
       "      <td>Yes</td>\n",
       "    </tr>\n",
       "    <tr>\n",
       "      <th>997</th>\n",
       "      <td>Married</td>\n",
       "      <td>NaN</td>\n",
       "      <td>60000.0</td>\n",
       "      <td>2.0</td>\n",
       "      <td>Bachelors</td>\n",
       "      <td>Skilled Manual</td>\n",
       "      <td>Yes</td>\n",
       "      <td>0-1 Miles</td>\n",
       "      <td>North America</td>\n",
       "      <td>Yes</td>\n",
       "    </tr>\n",
       "    <tr>\n",
       "      <th>998</th>\n",
       "      <td>Single</td>\n",
       "      <td>Male</td>\n",
       "      <td>100000.0</td>\n",
       "      <td>3.0</td>\n",
       "      <td>Bachelors</td>\n",
       "      <td>Management</td>\n",
       "      <td>No</td>\n",
       "      <td>1-2 Miles</td>\n",
       "      <td>North America</td>\n",
       "      <td>No</td>\n",
       "    </tr>\n",
       "    <tr>\n",
       "      <th>999</th>\n",
       "      <td>Single</td>\n",
       "      <td>Male</td>\n",
       "      <td>60000.0</td>\n",
       "      <td>3.0</td>\n",
       "      <td>High School</td>\n",
       "      <td>Professional</td>\n",
       "      <td>Yes</td>\n",
       "      <td>10+ Miles</td>\n",
       "      <td>North America</td>\n",
       "      <td>Yes</td>\n",
       "    </tr>\n",
       "  </tbody>\n",
       "</table>\n",
       "<p>1000 rows × 10 columns</p>\n",
       "</div>"
      ],
      "text/plain": [
       "    Marital Status  Gender    Income  Children        Education  \\\n",
       "0          Married  Female   40000.0       1.0        Bachelors   \n",
       "1          Married    Male   30000.0       3.0  Partial College   \n",
       "2          Married    Male   80000.0       5.0  Partial College   \n",
       "3           Single     NaN   70000.0       0.0        Bachelors   \n",
       "4           Single    Male   30000.0       0.0        Bachelors   \n",
       "..             ...     ...       ...       ...              ...   \n",
       "995        Married    Male   60000.0       2.0      High School   \n",
       "996         Single    Male   70000.0       4.0  Graduate Degree   \n",
       "997        Married     NaN   60000.0       2.0        Bachelors   \n",
       "998         Single    Male  100000.0       3.0        Bachelors   \n",
       "999         Single    Male   60000.0       3.0      High School   \n",
       "\n",
       "         Occupation Home Owner Commute Distance         Region Purchased Bike  \n",
       "0    Skilled Manual        Yes        0-1 Miles         Europe             No  \n",
       "1          Clerical        Yes        0-1 Miles         Europe             No  \n",
       "2      Professional         No        2-5 Miles         Europe             No  \n",
       "3      Professional        Yes       5-10 Miles        Pacific            Yes  \n",
       "4          Clerical         No        0-1 Miles         Europe            Yes  \n",
       "..              ...        ...              ...            ...            ...  \n",
       "995    Professional        Yes        2-5 Miles  North America            Yes  \n",
       "996    Professional        Yes        2-5 Miles  North America            Yes  \n",
       "997  Skilled Manual        Yes        0-1 Miles  North America            Yes  \n",
       "998      Management         No        1-2 Miles  North America             No  \n",
       "999    Professional        Yes        10+ Miles  North America            Yes  \n",
       "\n",
       "[1000 rows x 10 columns]"
      ]
     },
     "execution_count": 45,
     "metadata": {},
     "output_type": "execute_result"
    }
   ],
   "source": [
    "newdataset"
   ]
  },
  {
   "cell_type": "code",
   "execution_count": 46,
   "id": "e89baee6",
   "metadata": {},
   "outputs": [],
   "source": [
    "cols=['Marital Status','Gender','Education','Occupation','Home Owner','Commute Distance','Region','Purchased Bike']"
   ]
  },
  {
   "cell_type": "code",
   "execution_count": 47,
   "id": "16f7c0c5",
   "metadata": {},
   "outputs": [],
   "source": [
    "newdataset[cols]= newdataset[cols].apply(LabelEncoder().fit_transform)"
   ]
  },
  {
   "cell_type": "code",
   "execution_count": 48,
   "id": "cdef0127",
   "metadata": {},
   "outputs": [
    {
     "data": {
      "text/html": [
       "<div>\n",
       "<style scoped>\n",
       "    .dataframe tbody tr th:only-of-type {\n",
       "        vertical-align: middle;\n",
       "    }\n",
       "\n",
       "    .dataframe tbody tr th {\n",
       "        vertical-align: top;\n",
       "    }\n",
       "\n",
       "    .dataframe thead th {\n",
       "        text-align: right;\n",
       "    }\n",
       "</style>\n",
       "<table border=\"1\" class=\"dataframe\">\n",
       "  <thead>\n",
       "    <tr style=\"text-align: right;\">\n",
       "      <th></th>\n",
       "      <th>Marital Status</th>\n",
       "      <th>Gender</th>\n",
       "      <th>Income</th>\n",
       "      <th>Children</th>\n",
       "      <th>Education</th>\n",
       "      <th>Occupation</th>\n",
       "      <th>Home Owner</th>\n",
       "      <th>Commute Distance</th>\n",
       "      <th>Region</th>\n",
       "      <th>Purchased Bike</th>\n",
       "    </tr>\n",
       "  </thead>\n",
       "  <tbody>\n",
       "    <tr>\n",
       "      <th>0</th>\n",
       "      <td>0</td>\n",
       "      <td>0</td>\n",
       "      <td>40000.0</td>\n",
       "      <td>1.0</td>\n",
       "      <td>0</td>\n",
       "      <td>4</td>\n",
       "      <td>1</td>\n",
       "      <td>0</td>\n",
       "      <td>0</td>\n",
       "      <td>0</td>\n",
       "    </tr>\n",
       "    <tr>\n",
       "      <th>1</th>\n",
       "      <td>0</td>\n",
       "      <td>1</td>\n",
       "      <td>30000.0</td>\n",
       "      <td>3.0</td>\n",
       "      <td>3</td>\n",
       "      <td>0</td>\n",
       "      <td>1</td>\n",
       "      <td>0</td>\n",
       "      <td>0</td>\n",
       "      <td>0</td>\n",
       "    </tr>\n",
       "    <tr>\n",
       "      <th>2</th>\n",
       "      <td>0</td>\n",
       "      <td>1</td>\n",
       "      <td>80000.0</td>\n",
       "      <td>5.0</td>\n",
       "      <td>3</td>\n",
       "      <td>3</td>\n",
       "      <td>0</td>\n",
       "      <td>3</td>\n",
       "      <td>0</td>\n",
       "      <td>0</td>\n",
       "    </tr>\n",
       "    <tr>\n",
       "      <th>3</th>\n",
       "      <td>1</td>\n",
       "      <td>2</td>\n",
       "      <td>70000.0</td>\n",
       "      <td>0.0</td>\n",
       "      <td>0</td>\n",
       "      <td>3</td>\n",
       "      <td>1</td>\n",
       "      <td>4</td>\n",
       "      <td>2</td>\n",
       "      <td>1</td>\n",
       "    </tr>\n",
       "    <tr>\n",
       "      <th>4</th>\n",
       "      <td>1</td>\n",
       "      <td>1</td>\n",
       "      <td>30000.0</td>\n",
       "      <td>0.0</td>\n",
       "      <td>0</td>\n",
       "      <td>0</td>\n",
       "      <td>0</td>\n",
       "      <td>0</td>\n",
       "      <td>0</td>\n",
       "      <td>1</td>\n",
       "    </tr>\n",
       "    <tr>\n",
       "      <th>...</th>\n",
       "      <td>...</td>\n",
       "      <td>...</td>\n",
       "      <td>...</td>\n",
       "      <td>...</td>\n",
       "      <td>...</td>\n",
       "      <td>...</td>\n",
       "      <td>...</td>\n",
       "      <td>...</td>\n",
       "      <td>...</td>\n",
       "      <td>...</td>\n",
       "    </tr>\n",
       "    <tr>\n",
       "      <th>995</th>\n",
       "      <td>0</td>\n",
       "      <td>1</td>\n",
       "      <td>60000.0</td>\n",
       "      <td>2.0</td>\n",
       "      <td>2</td>\n",
       "      <td>3</td>\n",
       "      <td>1</td>\n",
       "      <td>3</td>\n",
       "      <td>1</td>\n",
       "      <td>1</td>\n",
       "    </tr>\n",
       "    <tr>\n",
       "      <th>996</th>\n",
       "      <td>1</td>\n",
       "      <td>1</td>\n",
       "      <td>70000.0</td>\n",
       "      <td>4.0</td>\n",
       "      <td>1</td>\n",
       "      <td>3</td>\n",
       "      <td>1</td>\n",
       "      <td>3</td>\n",
       "      <td>1</td>\n",
       "      <td>1</td>\n",
       "    </tr>\n",
       "    <tr>\n",
       "      <th>997</th>\n",
       "      <td>0</td>\n",
       "      <td>2</td>\n",
       "      <td>60000.0</td>\n",
       "      <td>2.0</td>\n",
       "      <td>0</td>\n",
       "      <td>4</td>\n",
       "      <td>1</td>\n",
       "      <td>0</td>\n",
       "      <td>1</td>\n",
       "      <td>1</td>\n",
       "    </tr>\n",
       "    <tr>\n",
       "      <th>998</th>\n",
       "      <td>1</td>\n",
       "      <td>1</td>\n",
       "      <td>100000.0</td>\n",
       "      <td>3.0</td>\n",
       "      <td>0</td>\n",
       "      <td>1</td>\n",
       "      <td>0</td>\n",
       "      <td>1</td>\n",
       "      <td>1</td>\n",
       "      <td>0</td>\n",
       "    </tr>\n",
       "    <tr>\n",
       "      <th>999</th>\n",
       "      <td>1</td>\n",
       "      <td>1</td>\n",
       "      <td>60000.0</td>\n",
       "      <td>3.0</td>\n",
       "      <td>2</td>\n",
       "      <td>3</td>\n",
       "      <td>1</td>\n",
       "      <td>2</td>\n",
       "      <td>1</td>\n",
       "      <td>1</td>\n",
       "    </tr>\n",
       "  </tbody>\n",
       "</table>\n",
       "<p>1000 rows × 10 columns</p>\n",
       "</div>"
      ],
      "text/plain": [
       "     Marital Status  Gender    Income  Children  Education  Occupation  \\\n",
       "0                 0       0   40000.0       1.0          0           4   \n",
       "1                 0       1   30000.0       3.0          3           0   \n",
       "2                 0       1   80000.0       5.0          3           3   \n",
       "3                 1       2   70000.0       0.0          0           3   \n",
       "4                 1       1   30000.0       0.0          0           0   \n",
       "..              ...     ...       ...       ...        ...         ...   \n",
       "995               0       1   60000.0       2.0          2           3   \n",
       "996               1       1   70000.0       4.0          1           3   \n",
       "997               0       2   60000.0       2.0          0           4   \n",
       "998               1       1  100000.0       3.0          0           1   \n",
       "999               1       1   60000.0       3.0          2           3   \n",
       "\n",
       "     Home Owner  Commute Distance  Region  Purchased Bike  \n",
       "0             1                 0       0               0  \n",
       "1             1                 0       0               0  \n",
       "2             0                 3       0               0  \n",
       "3             1                 4       2               1  \n",
       "4             0                 0       0               1  \n",
       "..          ...               ...     ...             ...  \n",
       "995           1                 3       1               1  \n",
       "996           1                 3       1               1  \n",
       "997           1                 0       1               1  \n",
       "998           0                 1       1               0  \n",
       "999           1                 2       1               1  \n",
       "\n",
       "[1000 rows x 10 columns]"
      ]
     },
     "execution_count": 48,
     "metadata": {},
     "output_type": "execute_result"
    }
   ],
   "source": [
    "newdataset"
   ]
  },
  {
   "cell_type": "code",
   "execution_count": 49,
   "id": "4afd3cde",
   "metadata": {},
   "outputs": [
    {
     "name": "stdout",
     "output_type": "stream",
     "text": [
      "<class 'pandas.core.frame.DataFrame'>\n",
      "RangeIndex: 1000 entries, 0 to 999\n",
      "Data columns (total 10 columns):\n",
      " #   Column            Non-Null Count  Dtype  \n",
      "---  ------            --------------  -----  \n",
      " 0   Marital Status    1000 non-null   int32  \n",
      " 1   Gender            1000 non-null   int32  \n",
      " 2   Income            994 non-null    float64\n",
      " 3   Children          992 non-null    float64\n",
      " 4   Education         1000 non-null   int32  \n",
      " 5   Occupation        1000 non-null   int32  \n",
      " 6   Home Owner        1000 non-null   int32  \n",
      " 7   Commute Distance  1000 non-null   int32  \n",
      " 8   Region            1000 non-null   int32  \n",
      " 9   Purchased Bike    1000 non-null   int32  \n",
      "dtypes: float64(2), int32(8)\n",
      "memory usage: 47.0 KB\n",
      "       Marital Status       Gender         Income    Children    Education  \\\n",
      "count     1000.000000  1000.000000     994.000000  992.000000  1000.000000   \n",
      "mean         0.472000     0.522000   56267.605634    1.910282     1.631000   \n",
      "std          0.513303     0.521333   31067.817462    1.626910     1.353762   \n",
      "min          0.000000     0.000000   10000.000000    0.000000     0.000000   \n",
      "25%          0.000000     0.000000   30000.000000    0.000000     0.000000   \n",
      "50%          0.000000     1.000000   60000.000000    2.000000     2.000000   \n",
      "75%          1.000000     1.000000   70000.000000    3.000000     3.000000   \n",
      "max          2.000000     2.000000  170000.000000    5.000000     4.000000   \n",
      "\n",
      "        Occupation   Home Owner  Commute Distance      Region  Purchased Bike  \n",
      "count  1000.000000  1000.000000       1000.000000  1000.00000     1000.000000  \n",
      "mean      2.259000     0.690000          1.645000     0.89200        0.481000  \n",
      "std       1.453283     0.471298          1.561862     0.69341        0.499889  \n",
      "min       0.000000     0.000000          0.000000     0.00000        0.000000  \n",
      "25%       1.000000     0.000000          0.000000     0.00000        0.000000  \n",
      "50%       3.000000     1.000000          1.000000     1.00000        0.000000  \n",
      "75%       4.000000     1.000000          3.000000     1.00000        1.000000  \n",
      "max       4.000000     2.000000          4.000000     2.00000        1.000000  \n"
     ]
    },
    {
     "data": {
      "text/plain": [
       "(986, 10)"
      ]
     },
     "execution_count": 49,
     "metadata": {},
     "output_type": "execute_result"
    }
   ],
   "source": [
    "newdataset.info()\n",
    "\n",
    "print(newdataset.describe())\n",
    "\n",
    "newdataset.isnull().sum()\n",
    "\n",
    "newdataset = newdataset.dropna()\n",
    "\n",
    "newdataset.shape"
   ]
  },
  {
   "cell_type": "code",
   "execution_count": 50,
   "id": "1668cccc",
   "metadata": {},
   "outputs": [],
   "source": [
    "x= newdataset.iloc[:, 1:12]  \n",
    "y= newdataset[\"Purchased Bike\"]"
   ]
  },
  {
   "cell_type": "code",
   "execution_count": 51,
   "id": "901ce94b",
   "metadata": {},
   "outputs": [
    {
     "name": "stdout",
     "output_type": "stream",
     "text": [
      "     Gender    Income  Children  Education  Occupation  Home Owner  \\\n",
      "0         0   40000.0       1.0          0           4           1   \n",
      "1         1   30000.0       3.0          3           0           1   \n",
      "2         1   80000.0       5.0          3           3           0   \n",
      "3         2   70000.0       0.0          0           3           1   \n",
      "4         1   30000.0       0.0          0           0           0   \n",
      "..      ...       ...       ...        ...         ...         ...   \n",
      "995       1   60000.0       2.0          2           3           1   \n",
      "996       1   70000.0       4.0          1           3           1   \n",
      "997       2   60000.0       2.0          0           4           1   \n",
      "998       1  100000.0       3.0          0           1           0   \n",
      "999       1   60000.0       3.0          2           3           1   \n",
      "\n",
      "     Commute Distance  Region  Purchased Bike  \n",
      "0                   0       0               0  \n",
      "1                   0       0               0  \n",
      "2                   3       0               0  \n",
      "3                   4       2               1  \n",
      "4                   0       0               1  \n",
      "..                ...     ...             ...  \n",
      "995                 3       1               1  \n",
      "996                 3       1               1  \n",
      "997                 0       1               1  \n",
      "998                 1       1               0  \n",
      "999                 2       1               1  \n",
      "\n",
      "[986 rows x 9 columns]\n",
      "0      0\n",
      "1      0\n",
      "2      0\n",
      "3      1\n",
      "4      1\n",
      "      ..\n",
      "995    1\n",
      "996    1\n",
      "997    1\n",
      "998    0\n",
      "999    1\n",
      "Name: Purchased Bike, Length: 986, dtype: int32\n"
     ]
    }
   ],
   "source": [
    "print(x)\n",
    "print(y)"
   ]
  },
  {
   "cell_type": "code",
   "execution_count": 52,
   "id": "8038e126",
   "metadata": {},
   "outputs": [],
   "source": [
    "x_train, x_test, y_train, y_test= train_test_split(x, y, test_size= 0.25)  "
   ]
  },
  {
   "cell_type": "code",
   "execution_count": 53,
   "id": "5918f5b1",
   "metadata": {},
   "outputs": [],
   "source": [
    "ss= StandardScaler()  \n",
    "x_train= ss.fit_transform(x_train)    \n",
    "x_test= ss.transform(x_test)  "
   ]
  },
  {
   "cell_type": "code",
   "execution_count": 54,
   "id": "00ae398f",
   "metadata": {},
   "outputs": [],
   "source": [
    "from sklearn.tree import DecisionTreeRegressor"
   ]
  },
  {
   "cell_type": "code",
   "execution_count": 55,
   "id": "9eb185a7",
   "metadata": {},
   "outputs": [],
   "source": [
    "dt= DecisionTreeRegressor()"
   ]
  },
  {
   "cell_type": "code",
   "execution_count": 56,
   "id": "81b5900e",
   "metadata": {},
   "outputs": [],
   "source": [
    "model=dt.fit(x_train,y_train)"
   ]
  },
  {
   "cell_type": "code",
   "execution_count": 57,
   "id": "2a4e9c72",
   "metadata": {},
   "outputs": [],
   "source": [
    "y_pred=model.predict(x_test)"
   ]
  },
  {
   "cell_type": "code",
   "execution_count": 58,
   "id": "0d31ca08",
   "metadata": {},
   "outputs": [],
   "source": [
    "score=(model.score(x_train,y_train)*100)"
   ]
  },
  {
   "cell_type": "code",
   "execution_count": 59,
   "id": "a79af857",
   "metadata": {},
   "outputs": [
    {
     "data": {
      "text/plain": [
       "100.0"
      ]
     },
     "execution_count": 59,
     "metadata": {},
     "output_type": "execute_result"
    }
   ],
   "source": [
    "score"
   ]
  },
  {
   "cell_type": "code",
   "execution_count": 60,
   "id": "ee0f0dd3",
   "metadata": {},
   "outputs": [
    {
     "name": "stdout",
     "output_type": "stream",
     "text": [
      "Mean Squared error :  0.0\n"
     ]
    }
   ],
   "source": [
    "print(\"Mean Squared error : \", mean_squared_error(y_test, y_pred))"
   ]
  },
  {
   "cell_type": "markdown",
   "id": "786c1b4f",
   "metadata": {},
   "source": [
    "# RANDOM FOREST"
   ]
  },
  {
   "cell_type": "code",
   "execution_count": 61,
   "id": "735cf945",
   "metadata": {},
   "outputs": [],
   "source": [
    "from sklearn.ensemble import RandomForestRegressor"
   ]
  },
  {
   "cell_type": "code",
   "execution_count": 62,
   "id": "e6e76d11",
   "metadata": {},
   "outputs": [],
   "source": [
    "rf=RandomForestRegressor(random_state=0,n_jobs=-1)"
   ]
  },
  {
   "cell_type": "code",
   "execution_count": 63,
   "id": "d7118f4c",
   "metadata": {},
   "outputs": [],
   "source": [
    "model2=rf.fit(x_train,y_train)"
   ]
  },
  {
   "cell_type": "code",
   "execution_count": 64,
   "id": "819f9091",
   "metadata": {},
   "outputs": [],
   "source": [
    "y_pre=model2.predict(x_test)"
   ]
  },
  {
   "cell_type": "code",
   "execution_count": 65,
   "id": "67ee8f7d",
   "metadata": {},
   "outputs": [],
   "source": [
    "scoreRF=(model.score(x_train,y_train)*100)"
   ]
  },
  {
   "cell_type": "code",
   "execution_count": 66,
   "id": "fd6ffd1c",
   "metadata": {},
   "outputs": [
    {
     "data": {
      "text/plain": [
       "100.0"
      ]
     },
     "execution_count": 66,
     "metadata": {},
     "output_type": "execute_result"
    }
   ],
   "source": [
    "scoreRF"
   ]
  },
  {
   "cell_type": "code",
   "execution_count": 67,
   "id": "193e4dd1",
   "metadata": {},
   "outputs": [
    {
     "name": "stdout",
     "output_type": "stream",
     "text": [
      "Mean Squared error :  0.0\n"
     ]
    }
   ],
   "source": [
    "print(\"Mean Squared error : \", mean_squared_error(y_test, y_pre))"
   ]
  },
  {
   "cell_type": "markdown",
   "id": "c308a522",
   "metadata": {},
   "source": [
    "# XGBOOST"
   ]
  },
  {
   "cell_type": "code",
   "execution_count": 68,
   "id": "94519133",
   "metadata": {},
   "outputs": [],
   "source": [
    "from xgboost import XGBRegressor"
   ]
  },
  {
   "cell_type": "code",
   "execution_count": 69,
   "id": "e028ac5d",
   "metadata": {},
   "outputs": [],
   "source": [
    "xgbr=XGBRegressor(verbosity=0)\n"
   ]
  },
  {
   "cell_type": "code",
   "execution_count": 70,
   "id": "9372a0af",
   "metadata": {},
   "outputs": [],
   "source": [
    "mod=xgbr.fit(x_train,y_train)\n"
   ]
  },
  {
   "cell_type": "code",
   "execution_count": 71,
   "id": "b462a066",
   "metadata": {},
   "outputs": [],
   "source": [
    "y_prediction=mod.predict(x_test)\n"
   ]
  },
  {
   "cell_type": "code",
   "execution_count": 72,
   "id": "30c402dd",
   "metadata": {},
   "outputs": [],
   "source": [
    "scorexgb=(xgbr.score(x_train,y_train)*100)\n"
   ]
  },
  {
   "cell_type": "code",
   "execution_count": 73,
   "id": "9e075f8f",
   "metadata": {},
   "outputs": [
    {
     "data": {
      "text/plain": [
       "99.99999953957865"
      ]
     },
     "execution_count": 73,
     "metadata": {},
     "output_type": "execute_result"
    }
   ],
   "source": [
    "scorexgb"
   ]
  },
  {
   "cell_type": "code",
   "execution_count": 74,
   "id": "5e33ee1a",
   "metadata": {},
   "outputs": [],
   "source": [
    "cv_score=cross_val_score(xgbr,x_train,y_train,cv=10)\n"
   ]
  },
  {
   "cell_type": "code",
   "execution_count": 75,
   "id": "870f9612",
   "metadata": {},
   "outputs": [
    {
     "data": {
      "text/plain": [
       "array([1., 1., 1., 1., 1., 1., 1., 1., 1., 1.])"
      ]
     },
     "execution_count": 75,
     "metadata": {},
     "output_type": "execute_result"
    }
   ],
   "source": [
    "cv_score"
   ]
  },
  {
   "cell_type": "code",
   "execution_count": 76,
   "id": "2b4fcec4",
   "metadata": {},
   "outputs": [
    {
     "name": "stdout",
     "output_type": "stream",
     "text": [
      "Mean Squared error :  0.0\n",
      "R - score (Training) :  0.9999999953957865\n",
      "R - score (Test) :  0.9999999953909632\n"
     ]
    }
   ],
   "source": [
    "print(\"Mean Squared error : \", mean_squared_error(y_test, y_pre))\n",
    "print(\"R - score (Training) : \", mod.score(x_train, y_train))\n",
    "print(\"R - score (Test) : \", mod.score(x_test, y_test))\n"
   ]
  },
  {
   "cell_type": "code",
   "execution_count": 77,
   "id": "c2246dc1",
   "metadata": {},
   "outputs": [
    {
     "data": {
      "image/png": "[encoded data removed]",
      "text/plain": [
       "<Figure size 640x480 with 1 Axes>"
      ]
     },
     "metadata": {},
     "output_type": "display_data"
    }
   ],
   "source": [
    "Accuracy = [score,scoreRF,scorexgb]\n",
    "color_code = ['m','c','y']\n",
    "deviate_fraction = [0,0,0]\n",
    "Algorithm = ['DT','RF','XGB']\n",
    "plt.pie(Accuracy,colors=color_code,labels=Algorithm,explode=deviate_fraction)\n",
    "plt.title('Accuracy comparison')\n",
    "plt.show()\n"
   ]
  },
  {
   "cell_type": "code",
   "execution_count": null,
   "id": "7d6b57c3",
   "metadata": {},
   "outputs": [],
   "source": []
  }
 ],
 "metadata": {
  "kernelspec": {
   "display_name": "Python 3 (ipykernel)",
   "language": "python",
   "name": "python3"
  },
  "language_info": {
   "codemirror_mode": {
    "name": "ipython",
    "version": 3
   },
   "file_extension": ".py",
   "mimetype": "text/x-python",
   "name": "python",
   "nbconvert_exporter": "python",
   "pygments_lexer": "ipython3",
   "version": "3.11.5"
  }
 },
 "nbformat": 4,
 "nbformat_minor": 5
}
